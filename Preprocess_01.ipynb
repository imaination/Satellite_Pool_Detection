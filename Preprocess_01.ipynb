{
 "cells": [
  {
   "cell_type": "code",
   "execution_count": 1,
   "id": "19e97af3",
   "metadata": {},
   "outputs": [
    {
     "name": "stdout",
     "output_type": "stream",
     "text": [
      "/Users/rurikoimai/Documents/GitHub/Satellite_Pool_Detection\n"
     ]
    }
   ],
   "source": [
    "%cd /Users/rurikoimai/Documents/GitHub/Satellite_Pool_Detection"
   ]
  },
  {
   "cell_type": "code",
   "execution_count": 2,
   "id": "03d18611",
   "metadata": {},
   "outputs": [],
   "source": [
    "from MinimumBoundingBox import MinimumBoundingBox\n",
    "import xml.etree.cElementTree as ET\n",
    "import json"
   ]
  },
  {
   "cell_type": "code",
   "execution_count": 3,
   "id": "d72ec7a2",
   "metadata": {},
   "outputs": [],
   "source": [
    "# Opening JSON file\n",
    "f = open('./metadata.json')\n",
    " \n",
    "# returns JSON object as\n",
    "# a dictionary\n",
    "data = json.load(f)\n",
    "\n",
    "# Closing file\n",
    "f.close()\n",
    "# data = {\"42.7363609_2.8868181.png\": {\"has_pool\":True, \n",
    "#                                      \"center\": {\"lat\": 42.7363609, \"lon\": 2.8868181}, \n",
    "#                                      \"bounds_lat_lon\": [\n",
    "#                                          {\"lat\": 42.7364046, \"lon\": 2.8867693}, \n",
    "#                                          {\"lat\": 42.7363591, \"lon\": 2.8867414},\n",
    "#                                          {\"lat\": 42.7363172, \"lon\": 2.8868668}, \n",
    "#                                          {\"lat\": 42.7363628, \"lon\": 2.8868948}, \n",
    "#                                          {\"lat\": 42.7364046, \"lon\": 2.8867693}], \n",
    "#                                      \"bounds_x_y\": [\n",
    "#                                          {\"x\": 219.88854424638464, \"y\": 197.97246403701524}, \n",
    "#                                          {\"x\": 199.24285541121722, \"y\": 243.81349049302645}, \n",
    "#                                          {\"x\": 292.03745689232903, \"y\": 286.02750490829436}, \n",
    "#                                          {\"x\": 312.75714461835867, \"y\": 240.08575994312486}, \n",
    "#                                          {\"x\": 219.88854424638464, \"y\": 197.97246403701524}]},\n",
    "#        }"
   ]
  },
  {
   "cell_type": "code",
   "execution_count": 4,
   "id": "1b3e02b4",
   "metadata": {},
   "outputs": [],
   "source": [
    "#want it in this format\n",
    "# <?xml version=\"1.0\"?>\n",
    "# <annotation>\n",
    "#     <filename>000000019.jpg</filename>\n",
    "#     <source>\n",
    "#         <database>Unknown</database>\n",
    "#     </source>\n",
    "#     <size>\n",
    "#         <width>224</width>\n",
    "#         <height>224</height>\n",
    "#         <depth>3</depth>\n",
    "#     </size>\n",
    "#     <object>\n",
    "#         <name>pool</name>\n",
    "#         <bndbox>\n",
    "#             <xmin>168</xmin>\n",
    "#             <ymin>0</ymin>\n",
    "#             <xmax>212</xmax>\n",
    "#             <ymax>20</ymax>\n",
    "#         </bndbox>\n",
    "#     </object>\n",
    "# </annotation>"
   ]
  },
  {
   "cell_type": "code",
   "execution_count": 5,
   "id": "355242b8",
   "metadata": {},
   "outputs": [],
   "source": [
    "f_names = [file for file in data.keys()]"
   ]
  },
  {
   "cell_type": "code",
   "execution_count": 6,
   "id": "6d33434a",
   "metadata": {},
   "outputs": [
    {
     "data": {
      "text/plain": [
       "14964"
      ]
     },
     "execution_count": 6,
     "metadata": {},
     "output_type": "execute_result"
    }
   ],
   "source": [
    "len(f_names)"
   ]
  },
  {
   "cell_type": "code",
   "execution_count": 7,
   "id": "3a2bdc57",
   "metadata": {},
   "outputs": [
    {
     "name": "stdout",
     "output_type": "stream",
     "text": [
      "/Users/rurikoimai/Documents/GitHub/Satellite_Pool_Detection/labels\n"
     ]
    }
   ],
   "source": [
    "!mkdir labels/\n",
    "%cd labels/"
   ]
  },
  {
   "cell_type": "code",
   "execution_count": 8,
   "id": "25c9d1c2",
   "metadata": {},
   "outputs": [],
   "source": [
    "# for idx, f_name in enumerate(f_names):\n",
    "for f_name in f_names:\n",
    "    # find coordinates\n",
    "    coords = [coord for coord in data[f_name]['bounds_x_y']]\n",
    "    \n",
    "    points = []\n",
    "    i = 0\n",
    "    while i < len(coords):\n",
    "        points.append((coords[i]['x'], coords[i]['y']))\n",
    "        i += 1\n",
    "    \n",
    "    # convert polygon to a box\n",
    "    bounding_box = MinimumBoundingBox(points)\n",
    "    coors = bounding_box.corner_points\n",
    "    \n",
    "    # find min, max coordinates of the box\n",
    "    max_xy = max(coors, key=lambda x: (x[0], x[1]))\n",
    "    min_xy = min(coors, key=lambda x: (x[0], x[1]))\n",
    "    \n",
    "    \n",
    "    # write to XML file\n",
    "    annot = ET.Element(\"annotation\")\n",
    "    ET.SubElement(annot, \"filename\").text = f_name\n",
    "    size = ET.SubElement(annot, \"size\")\n",
    "    ET.SubElement(size, \"width\").text = \"512\"\n",
    "    ET.SubElement(size, \"height\").text = \"512\"\n",
    "    ET.SubElement(size, \"depth\").text = \"3\"\n",
    "    object_ = ET.SubElement(annot, \"object\")\n",
    "    ET.SubElement(object_, \"name\").text = \"pool\"\n",
    "    bndbox = ET.SubElement(object_, \"bndbox\")\n",
    "    ET.SubElement(bndbox, \"xmin\").text = str(int(float(min_xy[0])))\n",
    "    ET.SubElement(bndbox, \"ymin\").text = str(int(float(min_xy[1])))\n",
    "    ET.SubElement(bndbox, \"xmax\").text = str(int(float(max_xy[0])))\n",
    "    ET.SubElement(bndbox, \"ymax\").text = str(int(float(max_xy[1])))\n",
    "\n",
    "    # file name w/o .png\n",
    "    file = f_name[:-4]\n",
    "    tree = ET.ElementTree(annot)\n",
    "    tree.write(f\"{file}.xml\")"
   ]
  },
  {
   "cell_type": "code",
   "execution_count": null,
   "id": "c24d3072",
   "metadata": {},
   "outputs": [],
   "source": []
  }
 ],
 "metadata": {
  "kernelspec": {
   "display_name": "Python 3",
   "language": "python",
   "name": "python3"
  },
  "language_info": {
   "codemirror_mode": {
    "name": "ipython",
    "version": 3
   },
   "file_extension": ".py",
   "mimetype": "text/x-python",
   "name": "python",
   "nbconvert_exporter": "python",
   "pygments_lexer": "ipython3",
   "version": "3.8.13"
  },
  "toc": {
   "base_numbering": 1,
   "nav_menu": {},
   "number_sections": true,
   "sideBar": true,
   "skip_h1_title": false,
   "title_cell": "Table of Contents",
   "title_sidebar": "Contents",
   "toc_cell": false,
   "toc_position": {},
   "toc_section_display": true,
   "toc_window_display": false
  },
  "varInspector": {
   "cols": {
    "lenName": 16,
    "lenType": 16,
    "lenVar": 40
   },
   "kernels_config": {
    "python": {
     "delete_cmd_postfix": "",
     "delete_cmd_prefix": "del ",
     "library": "var_list.py",
     "varRefreshCmd": "print(var_dic_list())"
    },
    "r": {
     "delete_cmd_postfix": ") ",
     "delete_cmd_prefix": "rm(",
     "library": "var_list.r",
     "varRefreshCmd": "cat(var_dic_list()) "
    }
   },
   "types_to_exclude": [
    "module",
    "function",
    "builtin_function_or_method",
    "instance",
    "_Feature"
   ],
   "window_display": false
  }
 },
 "nbformat": 4,
 "nbformat_minor": 5
}
