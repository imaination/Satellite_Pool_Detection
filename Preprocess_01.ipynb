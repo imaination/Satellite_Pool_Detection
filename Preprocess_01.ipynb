{
 "cells": [
  {
   "cell_type": "code",
   "execution_count": 1,
   "id": "f8ec4e00",
   "metadata": {},
   "outputs": [],
   "source": [
    "# !pip install pascal-voc-writer\n",
    "from pascal_voc_writer import Writer\n",
    "from MinimumBoundingBox import MinimumBoundingBox\n",
    "# import xml.etree.cElementTree as ET\n",
    "import json"
   ]
  },
  {
   "cell_type": "code",
   "execution_count": 2,
   "id": "fd0cc676",
   "metadata": {},
   "outputs": [
    {
     "name": "stdout",
     "output_type": "stream",
     "text": [
      "/Users/rurikoimai/Documents/GitHub/Satellite_Pool_Detection\r\n"
     ]
    }
   ],
   "source": [
    "!pwd"
   ]
  },
  {
   "cell_type": "code",
   "execution_count": 3,
   "id": "21d40264",
   "metadata": {},
   "outputs": [],
   "source": [
    "# Opening JSON file\n",
    "f = open('./metadata.json')\n",
    " \n",
    "# returns JSON object as\n",
    "# a dictionary\n",
    "data = json.load(f)\n",
    "\n",
    "# Closing file\n",
    "f.close()"
   ]
  },
  {
   "cell_type": "code",
   "execution_count": 4,
   "id": "05b2cd3e",
   "metadata": {},
   "outputs": [],
   "source": [
    "f_names = [file for file in data.keys()]"
   ]
  },
  {
   "cell_type": "code",
   "execution_count": 5,
   "id": "29e80f6d",
   "metadata": {},
   "outputs": [
    {
     "name": "stdout",
     "output_type": "stream",
     "text": [
      "/Users/rurikoimai/Documents/GitHub/Satellite_Pool_Detection/labels\n"
     ]
    }
   ],
   "source": [
    "!mkdir labels/\n",
    "%cd labels/"
   ]
  },
  {
   "cell_type": "code",
   "execution_count": 6,
   "id": "47a771b9",
   "metadata": {},
   "outputs": [],
   "source": [
    "# for idx, f_name in enumerate(f_names):\n",
    "for f_name in f_names:\n",
    "    # find coordinates\n",
    "    coords = [coord for coord in data[f_name]['bounds_x_y']]\n",
    "    \n",
    "    points = []\n",
    "    i = 0\n",
    "    while i < len(coords):\n",
    "        points.append((coords[i]['x'], coords[i]['y']))\n",
    "        i += 1\n",
    "    \n",
    "    # convert polygon to a box\n",
    "    bounding_box = MinimumBoundingBox(points)\n",
    "    coors = bounding_box.corner_points\n",
    "    \n",
    "    # find min, max coordinates of the box\n",
    "    max_xy = max(coors, key=lambda x: (x[0], x[1]))\n",
    "    min_xy = min(coors, key=lambda x: (x[0], x[1]))\n",
    "    \n",
    "    width = \"512\"\n",
    "    height = \"512\"\n",
    "    class_name = \"pool\"\n",
    "   \n",
    "    xmin =float(min_xy[0])\n",
    "    ymin = float(min_xy[1])\n",
    "    xmax = float(max_xy[0])\n",
    "    ymax = float(max_xy[1])\n",
    "\n",
    "    # create pascal voc writer (image_path, width, height)\n",
    "    writer = Writer('../images_subset/' + f_name, 512, 512)\n",
    "    \n",
    "    # add objects (class, xmin, ymin, xmax, ymax)\n",
    "    writer.addObject(class_name, xmin, ymin, xmax, ymax)\n",
    "    \n",
    "    # write to file\n",
    "    file = f_name[:-4]\n",
    "    writer.save('./' + f'{file}.xml')"
   ]
  },
  {
   "cell_type": "code",
   "execution_count": 7,
   "id": "9296f12d",
   "metadata": {},
   "outputs": [],
   "source": [
    "# mypath = './mini_test/'\n",
    "\n",
    "# # create pascal voc writer (image_path, width, height)\n",
    "# writer = Writer(mypath + '42.68114_2.7471165.png', 512, 512)\n",
    "\n",
    "# # add objects (class, xmin, ymin, xmax, ymax)\n",
    "# writer.addObject('pool', 1, 719, 630, 468)\n",
    "\n",
    "# # write to file\n",
    "# writer.save(mypath + '42.68114_2.7471165.xml')"
   ]
  }
 ],
 "metadata": {
  "kernelspec": {
   "display_name": "Python 3",
   "language": "python",
   "name": "python3"
  },
  "language_info": {
   "codemirror_mode": {
    "name": "ipython",
    "version": 3
   },
   "file_extension": ".py",
   "mimetype": "text/x-python",
   "name": "python",
   "nbconvert_exporter": "python",
   "pygments_lexer": "ipython3",
   "version": "3.8.13"
  },
  "toc": {
   "base_numbering": 1,
   "nav_menu": {},
   "number_sections": true,
   "sideBar": true,
   "skip_h1_title": false,
   "title_cell": "Table of Contents",
   "title_sidebar": "Contents",
   "toc_cell": false,
   "toc_position": {},
   "toc_section_display": true,
   "toc_window_display": false
  },
  "varInspector": {
   "cols": {
    "lenName": 16,
    "lenType": 16,
    "lenVar": 40
   },
   "kernels_config": {
    "python": {
     "delete_cmd_postfix": "",
     "delete_cmd_prefix": "del ",
     "library": "var_list.py",
     "varRefreshCmd": "print(var_dic_list())"
    },
    "r": {
     "delete_cmd_postfix": ") ",
     "delete_cmd_prefix": "rm(",
     "library": "var_list.r",
     "varRefreshCmd": "cat(var_dic_list()) "
    }
   },
   "types_to_exclude": [
    "module",
    "function",
    "builtin_function_or_method",
    "instance",
    "_Feature"
   ],
   "window_display": false
  }
 },
 "nbformat": 4,
 "nbformat_minor": 5
}
