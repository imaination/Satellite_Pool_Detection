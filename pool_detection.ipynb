{
 "cells": [
  {
   "cell_type": "code",
   "execution_count": 1,
   "id": "03d26801",
   "metadata": {},
   "outputs": [],
   "source": [
    "#Reference:\n",
    "#https://medium.com/@ije_good/object-detection-on-satellite-imagery-using-retinanet-part-1-training-e589975afbd5"
   ]
  },
  {
   "cell_type": "code",
   "execution_count": 2,
   "id": "ed46a2a6",
   "metadata": {},
   "outputs": [],
   "source": [
    "# select subsample of N for initial training\n",
    "import os\n",
    "import random\n",
    "from shutil import copyfile\n",
    "# determine number for the sample\n",
    "NUM = 1000\n",
    "# create directory for the sample\n",
    "base_dir = os.getcwd()\n",
    "sub_dir = base_dir + '/images_subset/'\n",
    "!mkdir {sub_dir}\n",
    "\n",
    "# image_dir = base_dir + '/data/images/'\n",
    "image_dir = base_dir + '/images/'\n",
    "image_paths = os.listdir(image_dir)\n",
    "label_dir = base_dir + '/labels/'\n",
    "\n",
    "# randomly select subsample\n",
    "random_NUM = random.sample(image_paths, NUM) \n",
    "file_name = [file.split(\".png\")[0] for file in random_NUM]\n",
    "xml_files = [file + '.xml' for file in file_name]\n",
    "\n",
    "\n",
    "# copy subsample into subsample directory\n",
    "for i in random_NUM:\n",
    "   copyfile(image_dir + i, sub_dir + i)\n",
    "\n",
    "for i in xml_files:\n",
    "   copyfile(label_dir + i, sub_dir + i)"
   ]
  },
  {
   "cell_type": "code",
   "execution_count": 3,
   "id": "fae0e510",
   "metadata": {},
   "outputs": [
    {
     "name": "stdout",
     "output_type": "stream",
     "text": [
      "/Users/rurikoimai/Documents/GitHub/Satellite_Pool_Detection/images_subset\n",
      "    2000\r\n"
     ]
    }
   ],
   "source": [
    "%cd ./images_subset/\n",
    "!ls -F |grep -v / | wc -l"
   ]
  },
  {
   "cell_type": "code",
   "execution_count": 4,
   "id": "9b697db3",
   "metadata": {},
   "outputs": [],
   "source": [
    "# import os\n",
    "# base_dir = os.getcwd()\n",
    "# base_dir\n",
    "\n",
    "# !python build_dataset.py \\\n",
    "# -l data/training_data/training_data/labels/ \\\n",
    "# -i images_subset/ \\\n",
    "# -r images_subset/train.csv \\\n",
    "# -e images_subset/test.csv \\\n",
    "# -c images_subset/classes.csv "
   ]
  },
  {
   "cell_type": "code",
   "execution_count": 5,
   "id": "ccd22c1b",
   "metadata": {},
   "outputs": [],
   "source": [
    "# import urllib.request\n",
    "\n",
    "# PRETRAINED_MODEL = 'keras-retinanet/snapshots/resnet50_coco_best_v2.1.0.h5'\n",
    "\n",
    "# URL_MODEL = 'https://github.com/fizyr/keras-retinanet/releases/download/0.5.1/resnet50_coco_best_v2.1.0.h5'\n",
    "\n",
    "# urllib.request.urlretrieve(URL_MODEL, PRETRAINED_MODEL)"
   ]
  },
  {
   "cell_type": "code",
   "execution_count": 6,
   "id": "6e0f16ee",
   "metadata": {},
   "outputs": [],
   "source": [
    "# !wc -l images_subset/train.csv"
   ]
  },
  {
   "cell_type": "code",
   "execution_count": 7,
   "id": "a5026ba0",
   "metadata": {},
   "outputs": [],
   "source": [
    "# # compute number of annotations to compute number of steps per epoch\n",
    "\n",
    "# import pandas as pd\n",
    "# import math\n",
    "\n",
    "# df = pd.read_csv('images_subset/train.csv', header=None)\n",
    "# count = len(df)\n",
    "# no_steps = math.ceil(count/32)\n",
    "\n",
    "# print(\"Count of annotations: {}\".format(count))\n",
    "# print(\"Number of steps per epoch: {}\".format(no_steps))"
   ]
  },
  {
   "cell_type": "code",
   "execution_count": 8,
   "id": "892818f5",
   "metadata": {},
   "outputs": [],
   "source": [
    "# !mkdir run_1/\n",
    "# %cd run_1/\n",
    "\n",
    "# !python ../keras-retinanet/keras_retinanet/bin/train.py \\\n",
    "# --freeze-backbone \\\n",
    "# --random-transform \\\n",
    "# --weights {PRETRAINED_MODEL} \\\n",
    "# --weighted-average \\\n",
    "# --batch-size 32 \\\n",
    "# --steps {no_steps} \\\n",
    "# --epochs 30 \\\n",
    "# csv 'images_subset/train.csv' 'images_subset/classes.csv'"
   ]
  },
  {
   "cell_type": "code",
   "execution_count": null,
   "id": "b8d78c8c",
   "metadata": {},
   "outputs": [],
   "source": []
  }
 ],
 "metadata": {
  "kernelspec": {
   "display_name": "Python 3",
   "language": "python",
   "name": "python3"
  },
  "language_info": {
   "codemirror_mode": {
    "name": "ipython",
    "version": 3
   },
   "file_extension": ".py",
   "mimetype": "text/x-python",
   "name": "python",
   "nbconvert_exporter": "python",
   "pygments_lexer": "ipython3",
   "version": "3.8.13"
  },
  "toc": {
   "base_numbering": 1,
   "nav_menu": {},
   "number_sections": true,
   "sideBar": true,
   "skip_h1_title": false,
   "title_cell": "Table of Contents",
   "title_sidebar": "Contents",
   "toc_cell": false,
   "toc_position": {},
   "toc_section_display": true,
   "toc_window_display": false
  },
  "varInspector": {
   "cols": {
    "lenName": 16,
    "lenType": 16,
    "lenVar": 40
   },
   "kernels_config": {
    "python": {
     "delete_cmd_postfix": "",
     "delete_cmd_prefix": "del ",
     "library": "var_list.py",
     "varRefreshCmd": "print(var_dic_list())"
    },
    "r": {
     "delete_cmd_postfix": ") ",
     "delete_cmd_prefix": "rm(",
     "library": "var_list.r",
     "varRefreshCmd": "cat(var_dic_list()) "
    }
   },
   "types_to_exclude": [
    "module",
    "function",
    "builtin_function_or_method",
    "instance",
    "_Feature"
   ],
   "window_display": false
  }
 },
 "nbformat": 4,
 "nbformat_minor": 5
}
