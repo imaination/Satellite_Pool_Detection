{
 "cells": [
  {
   "cell_type": "code",
   "execution_count": 1,
   "id": "03d26801",
   "metadata": {},
   "outputs": [],
   "source": [
    "#Reference:\n",
    "#https://medium.com/@ije_good/object-detection-on-satellite-imagery-using-retinanet-part-1-training-e589975afbd5"
   ]
  },
  {
   "cell_type": "code",
   "execution_count": 15,
   "id": "db48aaeb",
   "metadata": {},
   "outputs": [
    {
     "name": "stdout",
     "output_type": "stream",
     "text": [
      "Cloning into 'keras-retinanet'...\n",
      "remote: Enumerating objects: 6209, done.\u001b[K\n",
      "remote: Counting objects: 100% (4/4), done.\u001b[K\n",
      "remote: Compressing objects: 100% (4/4), done.\u001b[K\n",
      "remote: Total 6209 (delta 0), reused 0 (delta 0), pack-reused 6205\u001b[K\n",
      "Receiving objects: 100% (6209/6209), 13.48 MiB | 11.58 MiB/s, done.\n",
      "Resolving deltas: 100% (4200/4200), done.\n"
     ]
    }
   ],
   "source": [
    "# # Download retinanet \n",
    "# import os\n",
    "# repo_url = 'https://github.com/fizyr/keras-retinanet'\n",
    "# repo_dir_path = os.path.abspath(os.path.join('.', os.path.basename(repo_url)))\n",
    "# # clone git repository\n",
    "# !git clone {repo_url}"
   ]
  },
  {
   "cell_type": "code",
   "execution_count": 7,
   "id": "c365fc5b",
   "metadata": {},
   "outputs": [
    {
     "name": "stdout",
     "output_type": "stream",
     "text": [
      "[Errno 2] No such file or directory: '{repo_dir_path}'\n",
      "/Users/rurikoimai/Documents/GitHub/Satellite_Pool_Detection\n",
      "\u001b[31mERROR: Directory '.' is not installable. Neither 'setup.py' nor 'pyproject.toml' found.\u001b[0m\n",
      "python: can't open file 'setup.py': [Errno 2] No such file or directory\n",
      "/Users/rurikoimai/Documents/GitHub\n"
     ]
    }
   ],
   "source": [
    "# # from /content/keras-retinanet\n",
    "# %cd {repo_dir_path} \n",
    "# !pip install .\n",
    "# !python setup.py build_ext --inplace\n",
    "\n",
    "# %cd .."
   ]
  },
  {
   "cell_type": "code",
   "execution_count": 3,
   "id": "ed34aa20",
   "metadata": {},
   "outputs": [],
   "source": [
    "# Download my dataset\n",
    "# /content/data"
   ]
  },
  {
   "cell_type": "code",
   "execution_count": 4,
   "id": "ed46a2a6",
   "metadata": {},
   "outputs": [],
   "source": [
    "# # select subsample of N for initial training\n",
    "# import os\n",
    "# import random\n",
    "# from shutil import copyfile\n",
    "# # determine number for the sample\n",
    "# NUM = 800\n",
    "# # create directory for the sample\n",
    "# base_dir = os.getcwd()\n",
    "# sub_dir = base_dir + '/images_subset/'\n",
    "# !mkdir {sub_dir}\n",
    "\n",
    "# # image_dir = base_dir + '/data/images/'\n",
    "# image_dir = base_dir + '/data/training_data/training_data/images/'\n",
    "# image_paths = os.listdir(image_dir)\n",
    "\n",
    "# # randomly select subsample\n",
    "# random_NUM = random.sample(image_paths, NUM) \n",
    "# # copy subsample into subsample directory\n",
    "# for i in random_NUM:\n",
    "#    copyfile(image_dir + i, sub_dir + i )"
   ]
  },
  {
   "cell_type": "code",
   "execution_count": 5,
   "id": "fae0e510",
   "metadata": {},
   "outputs": [],
   "source": [
    "# %cd ./images_subset/\n",
    "# !ls -F |grep -v / | wc -l"
   ]
  },
  {
   "cell_type": "code",
   "execution_count": 1,
   "id": "4c130b5d",
   "metadata": {},
   "outputs": [
    {
     "data": {
      "text/plain": [
       "'/Users/rurikoimai/Documents/GitHub/Satellite_Pool_Detection'"
      ]
     },
     "execution_count": 1,
     "metadata": {},
     "output_type": "execute_result"
    }
   ],
   "source": [
    "import os\n",
    "base_dir = os.getcwd()\n",
    "base_dir"
   ]
  },
  {
   "cell_type": "code",
   "execution_count": 7,
   "id": "9b697db3",
   "metadata": {},
   "outputs": [],
   "source": [
    "# !python build_dataset.py \\\n",
    "# -l data/training_data/training_data/labels/ \\\n",
    "# -i images_subset/ \\\n",
    "# -r images_subset/train.csv \\\n",
    "# -e images_subset/test.csv \\\n",
    "# -c images_subset/classes.csv "
   ]
  },
  {
   "cell_type": "code",
   "execution_count": 2,
   "id": "ccd22c1b",
   "metadata": {},
   "outputs": [
    {
     "data": {
      "text/plain": [
       "('keras-retinanet/snapshots/resnet50_coco_best_v2.1.0.h5',\n",
       " <http.client.HTTPMessage at 0x7f91082f9df0>)"
      ]
     },
     "execution_count": 2,
     "metadata": {},
     "output_type": "execute_result"
    }
   ],
   "source": [
    "import urllib.request\n",
    "\n",
    "PRETRAINED_MODEL = 'keras-retinanet/snapshots/resnet50_coco_best_v2.1.0.h5'\n",
    "\n",
    "URL_MODEL = 'https://github.com/fizyr/keras-retinanet/releases/download/0.5.1/resnet50_coco_best_v2.1.0.h5'\n",
    "\n",
    "urllib.request.urlretrieve(URL_MODEL, PRETRAINED_MODEL)"
   ]
  },
  {
   "cell_type": "code",
   "execution_count": 3,
   "id": "6e0f16ee",
   "metadata": {},
   "outputs": [
    {
     "name": "stdout",
     "output_type": "stream",
     "text": [
      "     328 images_subset/train.csv\r\n"
     ]
    }
   ],
   "source": [
    "!wc -l images_subset/train.csv"
   ]
  },
  {
   "cell_type": "code",
   "execution_count": 4,
   "id": "a5026ba0",
   "metadata": {},
   "outputs": [
    {
     "name": "stdout",
     "output_type": "stream",
     "text": [
      "Count of annotations: 328\n",
      "Number of steps per epoch: 11\n"
     ]
    }
   ],
   "source": [
    "# compute number of annotations to compute number of steps per epoch\n",
    "\n",
    "import pandas as pd\n",
    "import math\n",
    "\n",
    "df = pd.read_csv('images_subset/train.csv', header=None)\n",
    "count = len(df)\n",
    "no_steps = math.ceil(count/32)\n",
    "\n",
    "print(\"Count of annotations: {}\".format(count))\n",
    "print(\"Number of steps per epoch: {}\".format(no_steps))"
   ]
  },
  {
   "cell_type": "code",
   "execution_count": 5,
   "id": "892818f5",
   "metadata": {},
   "outputs": [
    {
     "name": "stdout",
     "output_type": "stream",
     "text": [
      "mkdir: run_1/: File exists\n",
      "/Users/rurikoimai/Documents/GitHub/Satellite_Pool_Detection/run_1\n"
     ]
    }
   ],
   "source": [
    "!mkdir run_1/\n",
    "%cd run_1/\n",
    "\n",
    "!python ../keras-retinanet/keras_retinanet/bin/train.py \\\n",
    "--freeze-backbone \\\n",
    "--random-transform \\\n",
    "--weights {PRETRAINED_MODEL} \\\n",
    "--weighted-average \\\n",
    "--batch-size 32 \\\n",
    "--steps {no_steps} \\\n",
    "--epochs 30 \\\n",
    "csv 'images_subset/train.csv' 'images_subset/classes.csv'"
   ]
  },
  {
   "cell_type": "code",
   "execution_count": null,
   "id": "b8d78c8c",
   "metadata": {},
   "outputs": [],
   "source": []
  }
 ],
 "metadata": {
  "kernelspec": {
   "display_name": "Python 3 (ipykernel)",
   "language": "python",
   "name": "python3"
  },
  "language_info": {
   "codemirror_mode": {
    "name": "ipython",
    "version": 3
   },
   "file_extension": ".py",
   "mimetype": "text/x-python",
   "name": "python",
   "nbconvert_exporter": "python",
   "pygments_lexer": "ipython3",
   "version": "3.8.13"
  },
  "toc": {
   "base_numbering": 1,
   "nav_menu": {},
   "number_sections": true,
   "sideBar": true,
   "skip_h1_title": false,
   "title_cell": "Table of Contents",
   "title_sidebar": "Contents",
   "toc_cell": false,
   "toc_position": {},
   "toc_section_display": true,
   "toc_window_display": false
  },
  "varInspector": {
   "cols": {
    "lenName": 16,
    "lenType": 16,
    "lenVar": 40
   },
   "kernels_config": {
    "python": {
     "delete_cmd_postfix": "",
     "delete_cmd_prefix": "del ",
     "library": "var_list.py",
     "varRefreshCmd": "print(var_dic_list())"
    },
    "r": {
     "delete_cmd_postfix": ") ",
     "delete_cmd_prefix": "rm(",
     "library": "var_list.r",
     "varRefreshCmd": "cat(var_dic_list()) "
    }
   },
   "types_to_exclude": [
    "module",
    "function",
    "builtin_function_or_method",
    "instance",
    "_Feature"
   ],
   "window_display": false
  }
 },
 "nbformat": 4,
 "nbformat_minor": 5
}
